{
 "cells": [
  {
   "cell_type": "code",
   "execution_count": null,
   "id": "f97f457d",
   "metadata": {},
   "outputs": [],
   "source": [
    "#1. In the below elements which of them are values or an expression? eg:- values can be\n",
    "integer or string and expressions will be mathematical operators.\n",
    "*=expression\n",
    "    \n",
    "'hello'=value\n",
    "    \n",
    "-87.8=value\n",
    "\n",
    "-=expression\n",
    "\n",
    "/ =expression\n",
    "\n",
    "+ =expression\n",
    "\n",
    "6=value"
   ]
  },
  {
   "cell_type": "code",
   "execution_count": null,
   "id": "d536b7fa",
   "metadata": {},
   "outputs": [],
   "source": [
    "#2. What is the difference between string and variable?\n",
    "variable can store values that value called as string.\n",
    "ex:- a= \"ineuron\"\n",
    "    a=variable\n",
    "    ineuron=string"
   ]
  },
  {
   "cell_type": "code",
   "execution_count": null,
   "id": "197bc79f",
   "metadata": {},
   "outputs": [],
   "source": [
    "#3. Describe three different data types.\n",
    "1:-floting\n",
    "    ex:-2.768\n",
    "2:-integer\n",
    "    ex:-2768\n",
    "3:-boolean\n",
    "    ex:-true/false"
   ]
  },
  {
   "cell_type": "code",
   "execution_count": null,
   "id": "6e62ba94",
   "metadata": {},
   "outputs": [],
   "source": [
    "#4. What is an expression made up of? What do all expressions do?\n",
    "an expression made up of value and operators, veriable, expressions do several opretions like division, multiplication,\n",
    "addition, subtraction ,<,>,%  etc.\n",
    "ex:- a=3\n",
    "    b=4\n",
    "    c=a+b \n",
    "    a+b :-this a expression"
   ]
  },
  {
   "cell_type": "code",
   "execution_count": null,
   "id": "a45ab505",
   "metadata": {},
   "outputs": [],
   "source": [
    "#This assignment statements, like spam = 10. What is the difference between an expression and a statement?\n",
    "spam= 10 this is a statement, because expression contain value and operators, veriable."
   ]
  },
  {
   "cell_type": "code",
   "execution_count": null,
   "id": "e76dc45a",
   "metadata": {},
   "outputs": [],
   "source": [
    "#6. After running the following code, what does the variable bacon contain?\n",
    "bacon = 22\n",
    "bacon + 1\n",
    " Ans :-23"
   ]
  },
  {
   "cell_type": "code",
   "execution_count": null,
   "id": "9002ccf3",
   "metadata": {},
   "outputs": [],
   "source": [
    "#7. What should the values of the following two terms be?\n",
    "\n",
    "'spam'+'spamspam'='spamspamspam'\n",
    "\n",
    "'spam*3'='spamspamspam'"
   ]
  },
  {
   "cell_type": "code",
   "execution_count": null,
   "id": "27df14cb",
   "metadata": {},
   "outputs": [],
   "source": [
    "#8. Why is eggs a valid variable name while 100 is invalid?\n",
    "\n",
    "Variable names cannot start with a number."
   ]
  },
  {
   "cell_type": "code",
   "execution_count": null,
   "id": "4ef7d652",
   "metadata": {},
   "outputs": [],
   "source": [
    "#9. What three functions can be used to get the integer, floating-point number, or stringversion of a value?\n",
    "string(), integer(), floating()."
   ]
  },
  {
   "cell_type": "code",
   "execution_count": null,
   "id": "0e7c62eb",
   "metadata": {},
   "outputs": [],
   "source": [
    "#10. Why does this expression cause an error? How can you fix it?\n",
    "'I have eaten'+ 99 +'burritos.'\n",
    "\n",
    "Ans:-can only concatenate str to str. remove 99 then it will work."
   ]
  }
 ],
 "metadata": {
  "kernelspec": {
   "display_name": "Python 3 (ipykernel)",
   "language": "python",
   "name": "python3"
  },
  "language_info": {
   "codemirror_mode": {
    "name": "ipython",
    "version": 3
   },
   "file_extension": ".py",
   "mimetype": "text/x-python",
   "name": "python",
   "nbconvert_exporter": "python",
   "pygments_lexer": "ipython3",
   "version": "3.9.7"
  }
 },
 "nbformat": 4,
 "nbformat_minor": 5
}
