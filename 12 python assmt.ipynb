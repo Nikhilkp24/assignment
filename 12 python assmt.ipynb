{
 "cells": [
  {
   "cell_type": "code",
   "execution_count": null,
   "id": "58a35668",
   "metadata": {},
   "outputs": [],
   "source": [
    "Q1. In what modes should the PdfFileReader() and PdfFileWriter() File objects will be opened?\n",
    "\n",
    "ans:-PdfFileReader() needs to be opened in read-binary mode by passing 'rb' as the second argument to open(). \n",
    "     Likewise, the File object passed to PyPDF2. PdfFileWriter() needs to be opened in write-binary mode with 'wb'.\n"
   ]
  },
  {
   "cell_type": "code",
   "execution_count": null,
   "id": "2291840c",
   "metadata": {},
   "outputs": [],
   "source": []
  },
  {
   "cell_type": "code",
   "execution_count": null,
   "id": "1c5663ca",
   "metadata": {},
   "outputs": [],
   "source": [
    "Q2. From a PdfFileReader object, how do you get a Page object for page 5?\n",
    "\n",
    "ans:-Calling getPage(4) will return a page object for page 5, since page 0 is the first page."
   ]
  },
  {
   "cell_type": "code",
   "execution_count": null,
   "id": "567d8bf6",
   "metadata": {},
   "outputs": [],
   "source": []
  },
  {
   "cell_type": "code",
   "execution_count": null,
   "id": "015c55d5",
   "metadata": {},
   "outputs": [],
   "source": [
    "Q3. What PdfFileReader variable stores the number of pages in the PDF document?\n",
    "\n",
    "ans:-The total number of pages in the document is stored in the numPages variable of a PdfFileReader object.\n"
   ]
  },
  {
   "cell_type": "code",
   "execution_count": null,
   "id": "6f13cc2f",
   "metadata": {},
   "outputs": [],
   "source": [
    "Q4. If a PdfFileReader object’s PDF is encrypted with the password swordfish, what must you do before you can obtain\n",
    "   Page objects from it?\n",
    "    \n",
    "ans:-To read an encrypted PDF, call the decrypt() function and pass the password as a string, in our case it is swordfish.\n",
    "      After we call decrypt()with the correct password, you’ll see that calling getPage() no longer causes an error.\n",
    "      Call decrypt('swordfish').\n"
   ]
  },
  {
   "cell_type": "code",
   "execution_count": null,
   "id": "e71c79c9",
   "metadata": {},
   "outputs": [],
   "source": []
  },
  {
   "cell_type": "code",
   "execution_count": null,
   "id": "eaac692d",
   "metadata": {},
   "outputs": [],
   "source": [
    "Q5. What methods do you use to rotate a page?\n",
    "\n",
    "ans:-The pages of a PDF can be rotated in 90-degree increments with the rotateClockwise() and rotateCounterClockwise() methods.\n"
   ]
  },
  {
   "cell_type": "code",
   "execution_count": null,
   "id": "27fb4701",
   "metadata": {},
   "outputs": [],
   "source": []
  },
  {
   "cell_type": "code",
   "execution_count": null,
   "id": "6fb05edf",
   "metadata": {},
   "outputs": [],
   "source": [
    "Q6. What is the difference between a Run object and a Paragraph object?\n",
    "\n",
    "ans:-A document contains multiple paragraphs. A paragraph begins on a new line and contains multiple runs. \n",
    "     Runs are contiguous groups of charecters within a paragraph.\n"
   ]
  },
  {
   "cell_type": "code",
   "execution_count": null,
   "id": "fafd70ff",
   "metadata": {},
   "outputs": [],
   "source": []
  },
  {
   "cell_type": "code",
   "execution_count": null,
   "id": "d4eb37f3",
   "metadata": {},
   "outputs": [],
   "source": [
    "Q7. How do you obtain a list of Paragraph objects for a Document object that’s stored in a variable named doc?\n",
    "\n",
    "ans:-len(doc.paragraphs)\n"
   ]
  },
  {
   "cell_type": "code",
   "execution_count": null,
   "id": "77005cd5",
   "metadata": {},
   "outputs": [],
   "source": []
  },
  {
   "cell_type": "code",
   "execution_count": null,
   "id": "e6141a10",
   "metadata": {},
   "outputs": [],
   "source": [
    "Q8. What type of object has bold, underline, italic, strike, and outline variables?\n",
    "\n",
    "ans:-Run Object\n"
   ]
  },
  {
   "cell_type": "code",
   "execution_count": null,
   "id": "9afc6477",
   "metadata": {},
   "outputs": [],
   "source": []
  },
  {
   "cell_type": "code",
   "execution_count": null,
   "id": "1b7c2046",
   "metadata": {},
   "outputs": [],
   "source": [
    "Q9. What is the difference between False, True, and None for the bold variable?\n",
    "\n",
    "ans:-True always makes the run object bolded and False makes it always not bolded, no matter what the style's bold settings is.\n",
    "     None will make the Run object just use the style's bold settings.\n"
   ]
  },
  {
   "cell_type": "code",
   "execution_count": null,
   "id": "1c824eed",
   "metadata": {},
   "outputs": [],
   "source": []
  },
  {
   "cell_type": "code",
   "execution_count": null,
   "id": "3aec34c7",
   "metadata": {},
   "outputs": [],
   "source": [
    "Q10. How do you create a Document object for a new Word document?\n",
    "\n",
    "ans:-mydoc = docx.Document()\n"
   ]
  },
  {
   "cell_type": "code",
   "execution_count": null,
   "id": "856aca3f",
   "metadata": {},
   "outputs": [],
   "source": []
  },
  {
   "cell_type": "code",
   "execution_count": null,
   "id": "c87206b5",
   "metadata": {},
   "outputs": [],
   "source": [
    "Q11. How do you add a paragraph with the text 'Hello, there!' to a Document object stored in a variable named doc?\n",
    "\n",
    "ans:-doc.add_paragraph('Hello, there!')\n"
   ]
  },
  {
   "cell_type": "code",
   "execution_count": null,
   "id": "4d6a83a5",
   "metadata": {},
   "outputs": [],
   "source": []
  },
  {
   "cell_type": "code",
   "execution_count": null,
   "id": "dcddf496",
   "metadata": {},
   "outputs": [],
   "source": [
    "12. What integers represent the levels of headings available in Word documents?\n",
    "\n",
    "ans:-The arguments to add_heading() are a string of the heading text and an integer from 0 to 4.\n",
    "    The integer 0 makes the heading the Title style, which is used for the top of the document.\n",
    "    Integers 1 to 4 are for various heading levels, with 1 being the main heading and 4 the lowest subheading. \n",
    "    The add_heading() function returns a Paragraph object to save you the step of extracting it from the Document object as\n",
    "    a separate step."
   ]
  }
 ],
 "metadata": {
  "kernelspec": {
   "display_name": "Python 3 (ipykernel)",
   "language": "python",
   "name": "python3"
  },
  "language_info": {
   "codemirror_mode": {
    "name": "ipython",
    "version": 3
   },
   "file_extension": ".py",
   "mimetype": "text/x-python",
   "name": "python",
   "nbconvert_exporter": "python",
   "pygments_lexer": "ipython3",
   "version": "3.9.13"
  }
 },
 "nbformat": 4,
 "nbformat_minor": 5
}
