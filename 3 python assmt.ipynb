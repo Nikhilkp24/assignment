{
 "cells": [
  {
   "cell_type": "code",
   "execution_count": null,
   "id": "0b38ca1a",
   "metadata": {},
   "outputs": [],
   "source": [
    "#1. Why are functions advantageous to have in your programs?\n",
    "1:-easy to debug\n",
    "2:-reusability of code just by calling it\n"
   ]
  },
  {
   "cell_type": "code",
   "execution_count": null,
   "id": "25e11837",
   "metadata": {},
   "outputs": [],
   "source": [
    "#2. When does the code in a function run: when it's specified or when it's called?\n",
    "ans:-when it's called."
   ]
  },
  {
   "cell_type": "code",
   "execution_count": null,
   "id": "fe8d9e45",
   "metadata": {},
   "outputs": [],
   "source": [
    "#3. What statement creates a function?\n",
    "ans:-function is created with the def statement."
   ]
  },
  {
   "cell_type": "code",
   "execution_count": null,
   "id": "5a403519",
   "metadata": {},
   "outputs": [],
   "source": [
    "4. What is the difference between a function and a function call?\n",
    "function:-use to def a function write the program under the function.\n",
    "function call:-use to perform a task by calling the funtion.    "
   ]
  },
  {
   "cell_type": "code",
   "execution_count": null,
   "id": "a7d7dd8e",
   "metadata": {},
   "outputs": [],
   "source": [
    "#5. How many global scopes are there in a Python program? How many local scopes?\n",
    "ans:- global scopes variable define out side of def function that we can use in different programe. and local scope \n",
    "    veriable define in side def function that can use only that programe.\n",
    "\n",
    " #global scope veriable\n",
    "  a=5\n",
    "  b=8\n",
    "\n",
    "def added():\n",
    " #local scope veriable   \n",
    "    a=5\n",
    "    b=8\n",
    " c=a+b\n",
    " return(c)\n"
   ]
  },
  {
   "cell_type": "code",
   "execution_count": null,
   "id": "80be2a6f",
   "metadata": {},
   "outputs": [],
   "source": [
    "#6. What happens to variables in a local scope when the function call returns?\n",
    "it will give the value. whatever value assign to the variable.\n",
    "def test4() : \n",
    "    a = 4*5\n",
    "    b = 6+4\n",
    "    return a , b\n",
    "test4()\n"
   ]
  },
  {
   "cell_type": "code",
   "execution_count": null,
   "id": "14c9a1cf",
   "metadata": {},
   "outputs": [],
   "source": [
    "#7.What is the concept of a return value? Is it possible to have a return value in an expression?\n",
    "ans:-#if we pass the argument in def fuction than it gives result by using RETURN.\n",
    "    def added(a,b):\n",
    " c=a+b\n",
    " return(c)\n",
    "added(5,6)\n",
    "\n",
    "it is not possible to have a return value in an expression."
   ]
  },
  {
   "cell_type": "code",
   "execution_count": null,
   "id": "6b5ee0f8",
   "metadata": {},
   "outputs": [],
   "source": [
    "#8. If a function does not have a return statement, what is the return value of a call to that function?\n",
    "ans:-#when call to that function return value is nothing.\n",
    "\n",
    "def test6() : \n",
    "    a = 5\n",
    "    b = 4"
   ]
  },
  {
   "cell_type": "code",
   "execution_count": null,
   "id": "ca4a2d89",
   "metadata": {},
   "outputs": [],
   "source": [
    "#9. How do you make a function variable refer to the global variable?\n",
    "globle veriable define outside of def function.\n",
    "a = 100\n",
    "b = 260\n",
    "\n",
    "def test() : \n",
    "    c=a+b\n",
    "    return c\n",
    "def test7():\n",
    "    d=b-a\n",
    "    return d\n"
   ]
  },
  {
   "cell_type": "code",
   "execution_count": null,
   "id": "7f87f651",
   "metadata": {},
   "outputs": [],
   "source": [
    "#10. What is the data type of None?\n",
    "none is a data type in function.  \n",
    "def test6() : \n",
    " a = 100\n",
    " b = 260 \n",
    " c=a+b\n",
    " print (c)\n",
    "#if check data type of test6() is nonetype.\n",
    "#if use return insted of print then check data type of test6() is int.\n"
   ]
  },
  {
   "cell_type": "code",
   "execution_count": null,
   "id": "e58c4657",
   "metadata": {},
   "outputs": [],
   "source": [
    "#11. What does the sentence import areallyourpetsnamederic do?\n",
    "ans:-That import statement imports a module named areallyourpetsnamederic."
   ]
  },
  {
   "cell_type": "code",
   "execution_count": null,
   "id": "3dfe8ab4",
   "metadata": {},
   "outputs": [],
   "source": [
    "#12. If you had a bacon() feature in a spam module, what would you call it after importing spam?\n",
    "ans:-This function can be called with spam.bacon()."
   ]
  },
  {
   "cell_type": "code",
   "execution_count": null,
   "id": "97004cd5",
   "metadata": {},
   "outputs": [],
   "source": [
    "#13. What can you do to save a programme from crashing if it encounters an error?\n",
    "ans:-we can save a programme from crash by using \"try and except statement\""
   ]
  },
  {
   "cell_type": "code",
   "execution_count": null,
   "id": "286eb557",
   "metadata": {},
   "outputs": [],
   "source": [
    "#14. What is the purpose of the try clause? What is the purpose of the except clause?\n",
    "ans:-purpose of try clouse is try to excute that particular line which shows error. and  purpose of the except clause is excute\n",
    "further programe."
   ]
  },
  {
   "cell_type": "code",
   "execution_count": null,
   "id": "bc514600",
   "metadata": {},
   "outputs": [],
   "source": []
  }
 ],
 "metadata": {
  "kernelspec": {
   "display_name": "Python 3 (ipykernel)",
   "language": "python",
   "name": "python3"
  },
  "language_info": {
   "codemirror_mode": {
    "name": "ipython",
    "version": 3
   },
   "file_extension": ".py",
   "mimetype": "text/x-python",
   "name": "python",
   "nbconvert_exporter": "python",
   "pygments_lexer": "ipython3",
   "version": "3.9.7"
  }
 },
 "nbformat": 4,
 "nbformat_minor": 5
}
