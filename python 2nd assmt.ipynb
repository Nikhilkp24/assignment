{
 "cells": [
  {
   "cell_type": "code",
   "execution_count": null,
   "id": "f2d7a1fd",
   "metadata": {},
   "outputs": [],
   "source": [
    "#1.What are the two values of the Boolean data type? How do you write them?\n",
    "ans:-There are two Boolean values True and False. true = 1 and false = 0 ."
   ]
  },
  {
   "cell_type": "code",
   "execution_count": null,
   "id": "5689cda8",
   "metadata": {},
   "outputs": [],
   "source": [
    "#2. What are the three different types of Boolean operators?\n",
    "ans:-There are three different types Booleanv operators AND, OR and NOT."
   ]
  },
  {
   "cell_type": "code",
   "execution_count": null,
   "id": "4ecd1399",
   "metadata": {},
   "outputs": [],
   "source": [
    "#3. Make a list of each Boolean operator's truth tables (i.e. every possible combination of Boolean\n",
    "values for the operator and what it evaluate ).\n",
    "ans:- and\n",
    "    x:-false     y:-false =false\n",
    "    x:-false     y:-true  =false\n",
    "    x:-true      y:-true  =true\n",
    "    or\n",
    "    x:-false     y:-false =false\n",
    "    x:-false     y:-true  =true\n",
    "    x:-true      y:-true  =true\n",
    "    not x\n",
    "    x:-false   =true     \n",
    "    x:-true    =false"
   ]
  },
  {
   "cell_type": "code",
   "execution_count": null,
   "id": "0d7cc9f6",
   "metadata": {},
   "outputs": [],
   "source": [
    "#4. What are the values of the following expressions?\n",
    "(5 > 4) and (3 == 5)  =false\n",
    "\n",
    " not (5 > 4) =false\n",
    "\n",
    "(5 > 4) or (3 == 5)  =True\n",
    "\n",
    " not ((5 > 4) or (3 == 5)) =False\n",
    "\n",
    "(True and True) and (True == False) =False\n",
    "\n",
    "(not False) or (not True)  =True"
   ]
  },
  {
   "cell_type": "code",
   "execution_count": null,
   "id": "16550b1c",
   "metadata": {},
   "outputs": [],
   "source": [
    "#5. What are the six comparison operators?\n",
    "the six comparison operators\n",
    "1:-less than \n",
    "2:-greater than\n",
    "3:-equal to \n",
    "4:-less than or equal to\n",
    "5:-greater than or equal to\n",
    "6:-and not equal to"
   ]
  },
  {
   "cell_type": "code",
   "execution_count": null,
   "id": "9605db4c",
   "metadata": {},
   "outputs": [],
   "source": [
    "#6. How do you tell the difference between the equal to and assignment operators?Describe a\n",
    "condition and when you would use one.\n",
    "ex:- a=10 b=5\n",
    "    a==b\n",
    "\"=\" use for assign the value on the right.\n",
    "\"==\"use for comparison equal or not\n"
   ]
  },
  {
   "cell_type": "code",
   "execution_count": 2,
   "id": "d4160e6d",
   "metadata": {},
   "outputs": [
    {
     "name": "stdout",
     "output_type": "stream",
     "text": [
      "ham\n",
      "spam\n",
      "spam\n"
     ]
    }
   ],
   "source": [
    "#7. Identify the three blocks in this code:\n",
    "spam = 0\n",
    "if spam == 10:\n",
    "    print('eggs')\n",
    "#\"if\" replace with \"elif\"    \n",
    "elif spam>5:\n",
    "        print('bacon')\n",
    "else:\n",
    "            print('ham')\n",
    "            print('spam')\n",
    "            print('spam')\n",
    "# an indented error solved    "
   ]
  },
  {
   "cell_type": "code",
   "execution_count": null,
   "id": "eedcbd21",
   "metadata": {},
   "outputs": [],
   "source": [
    "#8. Write code that prints Hello if 1 is stored in spam, prints Howdy if 2 is stored in spam, and prints\n",
    "Greetings! if anything else is stored in spam.\n",
    "\n",
    "\n",
    "spam=int(input(\"Put the value:- \"))\n",
    "if spam==1:\n",
    "    print(\"Hello\")\n",
    "elif spam==2:\n",
    "        print(\"Howdy\")\n",
    "else:\n",
    "            print(\"Greetings!\")"
   ]
  },
  {
   "cell_type": "code",
   "execution_count": null,
   "id": "f15ab274",
   "metadata": {},
   "outputs": [],
   "source": [
    "#9.If your programme is stuck in an endless loop, what keys you’ll press?\n",
    "ans:- i will press ctrl +c."
   ]
  },
  {
   "cell_type": "code",
   "execution_count": null,
   "id": "9daf2994",
   "metadata": {},
   "outputs": [],
   "source": [
    "#10. How can you tell the difference between break and continue?\n",
    "beak statment:-if \"beak statment\" is apply in the loop on any cadition whenever that candition accure then programe jump out of the particular loop.\n",
    "\n",
    "ex:-for i in range(10):\n",
    "    if i == 6: \n",
    "             break \n",
    "    else: \n",
    "              print (i)\n",
    "            \n",
    "            \n",
    "            \n",
    "continue statment:- if \"continue statment\" is apply in the loop on any cadition whenever that candition accure programe will skip the particular candition. \n",
    "   \n",
    "ex:-for i in range(10):\n",
    "     if i == 2: \n",
    "             continue \n",
    "     else: \n",
    "              print (i)"
   ]
  },
  {
   "cell_type": "code",
   "execution_count": null,
   "id": "d553473c",
   "metadata": {},
   "outputs": [],
   "source": [
    "#11. In a for loop, what is the difference between range(10), range(0, 10), and range(0, 10, 1)?\n",
    "ans:- range(start, stop, step)\n",
    "    \n",
    "    #range(10):- start from 0 end 10 here start value taken it self\n",
    "    for i in range(10):\n",
    "     print(i)\n",
    "    \n",
    "    \n",
    "    #range(0, 10):-here start from 0 end 10\n",
    "    for i in range(0, 13):\n",
    "      print(i)\n",
    "    \n",
    "    \n",
    "    #range(0, 10, 1):- start from 0 end 10 and step size is 1 \n",
    "    for i in range(0, 10, 1):\n",
    "     print(i)\n",
    "    "
   ]
  },
  {
   "cell_type": "code",
   "execution_count": null,
   "id": "b65d8caa",
   "metadata": {},
   "outputs": [],
   "source": [
    "#12. Write a short program that prints the numbers 1 to 10 using a for loop. Then write an equivalent\n",
    "program that prints the numbers 1 to 10 using a while loop.\n",
    "\n",
    "\n",
    "#a short program that prints the numbers 1 to 10 using a for loop\n",
    "\n",
    "for i in range(1,11,1):\n",
    "    i<11\n",
    "    print (i)\n",
    "#an equivalent program that prints the numbers 1 to 10 using a while loop.\n",
    "i=1\n",
    "while (i<=10):\n",
    "    print (i)\n",
    "    i=i+1"
   ]
  },
  {
   "cell_type": "code",
   "execution_count": null,
   "id": "dee365e4",
   "metadata": {},
   "outputs": [],
   "source": [
    "#13.13. If you had a function named bacon() inside a module named spam, how would you call it after\n",
    "importing spam?\n",
    "ans:-function can be called with spam. bacon()."
   ]
  },
  {
   "cell_type": "code",
   "execution_count": null,
   "id": "f87a92fc",
   "metadata": {},
   "outputs": [],
   "source": []
  },
  {
   "cell_type": "code",
   "execution_count": null,
   "id": "77895274",
   "metadata": {},
   "outputs": [],
   "source": []
  }
 ],
 "metadata": {
  "kernelspec": {
   "display_name": "Python 3 (ipykernel)",
   "language": "python",
   "name": "python3"
  },
  "language_info": {
   "codemirror_mode": {
    "name": "ipython",
    "version": 3
   },
   "file_extension": ".py",
   "mimetype": "text/x-python",
   "name": "python",
   "nbconvert_exporter": "python",
   "pygments_lexer": "ipython3",
   "version": "3.9.7"
  }
 },
 "nbformat": 4,
 "nbformat_minor": 5
}
