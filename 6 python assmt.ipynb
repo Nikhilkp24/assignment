{
 "cells": [
  {
   "cell_type": "code",
   "execution_count": null,
   "id": "405782c9",
   "metadata": {},
   "outputs": [],
   "source": [
    "#1. What are escape characters, and how do you use them?\n",
    "#ans:-An escape character is a backslash \\ followed by the character,use like this\n",
    "ex:-\"Hello\\nWorld\"\n",
    "    \"Hello\\tWorld\""
   ]
  },
  {
   "cell_type": "code",
   "execution_count": 14,
   "id": "3574c65d",
   "metadata": {},
   "outputs": [
    {
     "name": "stdout",
     "output_type": "stream",
     "text": [
      "Hello\n",
      "World\n"
     ]
    }
   ],
   "source": [
    "#2. What do the escape characters n and t stand for?\n",
    "#\\n is use for next line\n",
    "txt = \"Hello\\nWorld\"\n",
    "print(txt)"
   ]
  },
  {
   "cell_type": "code",
   "execution_count": 15,
   "id": "d72eb945",
   "metadata": {},
   "outputs": [
    {
     "name": "stdout",
     "output_type": "stream",
     "text": [
      "Hello\tWorld\n"
     ]
    }
   ],
   "source": [
    "#\\t use for space\n",
    "t = \"Hello\\tWorld\"\n",
    "print(t) \n"
   ]
  },
  {
   "cell_type": "code",
   "execution_count": null,
   "id": "fb4168ac",
   "metadata": {},
   "outputs": [],
   "source": [
    "#3. What is the way to include backslash characters in a string?\n",
    "ans:-The \\\\ escape character will represent a backslash character."
   ]
  },
  {
   "cell_type": "code",
   "execution_count": null,
   "id": "9ef1b29e",
   "metadata": {},
   "outputs": [],
   "source": [
    "#4. The string \"Howl's Moving Castle\" is a correct value. Why isn't the single quote character in the\n",
    "word Howl's not escaped a problem?\n",
    "ans:-The single quote in Howl's is fine because you've used double quotes to mark the beginning and end of the string."
   ]
  },
  {
   "cell_type": "code",
   "execution_count": null,
   "id": "9e237f2d",
   "metadata": {},
   "outputs": [],
   "source": [
    "#5. How do you write a string of newlines if you don't want to use the ?\n",
    "ans:-Multiline strings allow you to use newlines in strings without the \\n escape character.\n",
    "     use triple quotes, brackets and string join()."
   ]
  },
  {
   "cell_type": "code",
   "execution_count": null,
   "id": "8a3d0c8f",
   "metadata": {},
   "outputs": [],
   "source": [
    "#6. What are the values of the given expressions?"
   ]
  },
  {
   "cell_type": "code",
   "execution_count": 7,
   "id": "1f4e4258",
   "metadata": {},
   "outputs": [
    {
     "data": {
      "text/plain": [
       "'e'"
      ]
     },
     "execution_count": 7,
     "metadata": {},
     "output_type": "execute_result"
    }
   ],
   "source": [
    "\"Hello, world!\"[1]"
   ]
  },
  {
   "cell_type": "code",
   "execution_count": 8,
   "id": "3fef7683",
   "metadata": {},
   "outputs": [
    {
     "data": {
      "text/plain": [
       "'Hello'"
      ]
     },
     "execution_count": 8,
     "metadata": {},
     "output_type": "execute_result"
    }
   ],
   "source": [
    "\"Hello, world!\"[0:5]"
   ]
  },
  {
   "cell_type": "code",
   "execution_count": 9,
   "id": "d7384102",
   "metadata": {},
   "outputs": [
    {
     "data": {
      "text/plain": [
       "'Hello'"
      ]
     },
     "execution_count": 9,
     "metadata": {},
     "output_type": "execute_result"
    }
   ],
   "source": [
    "\"Hello, world!\"[:5]"
   ]
  },
  {
   "cell_type": "code",
   "execution_count": 10,
   "id": "6afe34fa",
   "metadata": {},
   "outputs": [
    {
     "data": {
      "text/plain": [
       "'lo, world!'"
      ]
     },
     "execution_count": 10,
     "metadata": {},
     "output_type": "execute_result"
    }
   ],
   "source": [
    "\"Hello, world!\"[3:]"
   ]
  },
  {
   "cell_type": "code",
   "execution_count": null,
   "id": "3fa51ed1",
   "metadata": {},
   "outputs": [],
   "source": []
  },
  {
   "cell_type": "code",
   "execution_count": null,
   "id": "22181303",
   "metadata": {},
   "outputs": [],
   "source": [
    "#7. What are the values of the following expressions?\n",
    "\n",
    "\n"
   ]
  },
  {
   "cell_type": "code",
   "execution_count": 4,
   "id": "ffa1a65b",
   "metadata": {},
   "outputs": [
    {
     "data": {
      "text/plain": [
       "'HELLO'"
      ]
     },
     "execution_count": 4,
     "metadata": {},
     "output_type": "execute_result"
    }
   ],
   "source": [
    "'Hello'.upper()"
   ]
  },
  {
   "cell_type": "code",
   "execution_count": 5,
   "id": "606dc5ac",
   "metadata": {},
   "outputs": [
    {
     "data": {
      "text/plain": [
       "True"
      ]
     },
     "execution_count": 5,
     "metadata": {},
     "output_type": "execute_result"
    }
   ],
   "source": [
    "'Hello'.upper().isupper()"
   ]
  },
  {
   "cell_type": "code",
   "execution_count": 6,
   "id": "846ba0d1",
   "metadata": {},
   "outputs": [
    {
     "data": {
      "text/plain": [
       "'hello'"
      ]
     },
     "execution_count": 6,
     "metadata": {},
     "output_type": "execute_result"
    }
   ],
   "source": [
    "'Hello'.upper().lower()"
   ]
  },
  {
   "cell_type": "code",
   "execution_count": null,
   "id": "d426bfa6",
   "metadata": {},
   "outputs": [],
   "source": []
  },
  {
   "cell_type": "code",
   "execution_count": 11,
   "id": "3649206a",
   "metadata": {},
   "outputs": [
    {
     "data": {
      "text/plain": [
       "'There-can-only-one.'"
      ]
     },
     "execution_count": 11,
     "metadata": {},
     "output_type": "execute_result"
    }
   ],
   "source": [
    "#8. What are the values of the following expressions?\n",
    "'Remember, remember, the fifth of July.'.split()\n",
    "'-'.join('There can only one.'.split())"
   ]
  },
  {
   "cell_type": "code",
   "execution_count": null,
   "id": "92ae382d",
   "metadata": {},
   "outputs": [],
   "source": [
    "#9. What are the methods for right-justifying, left-justifying, and centering a string?"
   ]
  },
  {
   "cell_type": "code",
   "execution_count": null,
   "id": "7547b0ea",
   "metadata": {},
   "outputs": [],
   "source": [
    "#right-justifying\n",
    "input_string = 'Ineuron'\n",
    "length = 10\n",
    "fill_char = '#'\n",
    " \n",
    " \n",
    "print(input_string.rjust(length, fill_char)) "
   ]
  },
  {
   "cell_type": "code",
   "execution_count": null,
   "id": "947e10ca",
   "metadata": {},
   "outputs": [],
   "source": [
    "#left-justifying\n",
    "input_string = 'Ineuron'\n",
    "length = 10\n",
    "fill_char = '#'\n",
    " \n",
    " \n",
    "print(input_string.ljust(length, fill_char)) "
   ]
  },
  {
   "cell_type": "code",
   "execution_count": null,
   "id": "d79d44d6",
   "metadata": {},
   "outputs": [],
   "source": [
    "#centering a string\n",
    "input_string = 'Ineuron'\n",
    "length = 11\n",
    "fill_char = '#'\n",
    " \n",
    " \n",
    "print(input_string.center(length, fill_char)) \n"
   ]
  },
  {
   "cell_type": "code",
   "execution_count": 3,
   "id": "8bf7e338",
   "metadata": {},
   "outputs": [
    {
     "name": "stdout",
     "output_type": "stream",
     "text": [
      "ineuron\n"
     ]
    }
   ],
   "source": [
    "#10. What is the best way to remove whitespace characters from the start or end?\n",
    "#ans:-Use the string.strip()  to remove whitespace characters from both ends of characters.\n",
    "\n",
    "a= \"  ineuron  \"\n",
    "b= a.strip()\n",
    "print(b)\n"
   ]
  },
  {
   "cell_type": "code",
   "execution_count": null,
   "id": "a2486540",
   "metadata": {},
   "outputs": [],
   "source": []
  }
 ],
 "metadata": {
  "kernelspec": {
   "display_name": "Python 3 (ipykernel)",
   "language": "python",
   "name": "python3"
  },
  "language_info": {
   "codemirror_mode": {
    "name": "ipython",
    "version": 3
   },
   "file_extension": ".py",
   "mimetype": "text/x-python",
   "name": "python",
   "nbconvert_exporter": "python",
   "pygments_lexer": "ipython3",
   "version": "3.9.7"
  }
 },
 "nbformat": 4,
 "nbformat_minor": 5
}
