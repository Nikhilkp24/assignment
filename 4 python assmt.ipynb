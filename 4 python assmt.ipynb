{
 "cells": [
  {
   "cell_type": "code",
   "execution_count": null,
   "id": "2bcef811",
   "metadata": {},
   "outputs": [],
   "source": [
    "#1. What exactly is []?\n",
    "The empty list value, which is a list value that contains no items."
   ]
  },
  {
   "cell_type": "code",
   "execution_count": 3,
   "id": "da4b1649",
   "metadata": {},
   "outputs": [
    {
     "data": {
      "text/plain": [
       "[2, 4, 6, 'hello', 10]"
      ]
     },
     "execution_count": 3,
     "metadata": {},
     "output_type": "execute_result"
    }
   ],
   "source": [
    "#2. In a list of values stored in a variable called spam, how would you assign the value 'hello' as thethird value? (Assume [2, 4, 6, 8, 10] are in spam.)\n",
    "\n",
    "spam=[2, 4, 6, 8, 10]\n",
    "spam[3]='hello'\n",
    "spam"
   ]
  },
  {
   "cell_type": "code",
   "execution_count": 10,
   "id": "7723385f",
   "metadata": {},
   "outputs": [
    {
     "data": {
      "text/plain": [
       "'d'"
      ]
     },
     "execution_count": 10,
     "metadata": {},
     "output_type": "execute_result"
    }
   ],
   "source": [
    "spam =['a','b','c','d']\n",
    "#3. What is the value of spam[int(int('3' * 2) / 11)]?\n",
    "spam[int(int('3' * 2) / 11)]"
   ]
  },
  {
   "cell_type": "code",
   "execution_count": 11,
   "id": "c6fbbd20",
   "metadata": {},
   "outputs": [
    {
     "data": {
      "text/plain": [
       "'d'"
      ]
     },
     "execution_count": 11,
     "metadata": {},
     "output_type": "execute_result"
    }
   ],
   "source": [
    "#4. What is the value of spam[-1]?\n",
    "spam[-1]"
   ]
  },
  {
   "cell_type": "code",
   "execution_count": 12,
   "id": "73044846",
   "metadata": {},
   "outputs": [
    {
     "data": {
      "text/plain": [
       "['a', 'b']"
      ]
     },
     "execution_count": 12,
     "metadata": {},
     "output_type": "execute_result"
    }
   ],
   "source": [
    "#5. What is the value of spam[:2]?\n",
    "spam[:2]\n",
    "#index 2 exclude"
   ]
  },
  {
   "cell_type": "code",
   "execution_count": 29,
   "id": "043a1071",
   "metadata": {},
   "outputs": [],
   "source": [
    "bacon = [3.14,'cat' ,11, 'cat', True]"
   ]
  },
  {
   "cell_type": "code",
   "execution_count": 30,
   "id": "de817597",
   "metadata": {},
   "outputs": [
    {
     "data": {
      "text/plain": [
       "1"
      ]
     },
     "execution_count": 30,
     "metadata": {},
     "output_type": "execute_result"
    }
   ],
   "source": [
    "#6. What is the value of bacon.index('cat')?\n",
    "\n",
    "bacon.index('cat')"
   ]
  },
  {
   "cell_type": "code",
   "execution_count": 31,
   "id": "c02de9eb",
   "metadata": {},
   "outputs": [
    {
     "data": {
      "text/plain": [
       "[3.14, 'cat', 11, 'cat', True, 99]"
      ]
     },
     "execution_count": 31,
     "metadata": {},
     "output_type": "execute_result"
    }
   ],
   "source": [
    "#7. How does bacon.append(99) change the look of the list value in bacon?\n",
    "bacon.append(99)\n",
    "bacon"
   ]
  },
  {
   "cell_type": "code",
   "execution_count": 33,
   "id": "fa67f756",
   "metadata": {},
   "outputs": [
    {
     "data": {
      "text/plain": [
       "[3.14, 11, True, 99]"
      ]
     },
     "execution_count": 33,
     "metadata": {},
     "output_type": "execute_result"
    }
   ],
   "source": [
    "#8. How does bacon.remove('cat') change the look of the list in bacon?\n",
    "bacon.remove('cat')\n",
    "bacon"
   ]
  },
  {
   "cell_type": "code",
   "execution_count": null,
   "id": "a263b377",
   "metadata": {},
   "outputs": [],
   "source": [
    "#9. What are the list concatenation and list replication operators?\n",
    "\n",
    "The operator for list concatenation  means add '+', the operator for replication means (creat more than one) '*'. "
   ]
  },
  {
   "cell_type": "code",
   "execution_count": null,
   "id": "dd126929",
   "metadata": {},
   "outputs": [],
   "source": [
    "#10. What is difference between the list methods append() and insert()?\n",
    "append():- append method put value at the end of list\n",
    "insert():- in insert method you can put the value at a particular index wherever you want.   "
   ]
  },
  {
   "cell_type": "code",
   "execution_count": null,
   "id": "b0b34c11",
   "metadata": {},
   "outputs": [],
   "source": [
    "#11. What are the two methods for removing items from a list?\n",
    "we can use 'pop' and 'remove' method removing items from a list.\n",
    "in case of pop function put index\n",
    "in case of remove function you can directly put value which ever value you want to remove  "
   ]
  },
  {
   "cell_type": "code",
   "execution_count": null,
   "id": "88af8d1a",
   "metadata": {},
   "outputs": [],
   "source": [
    "#12. Describe how list values and string values are identical.\n",
    "1:-Both lists and strings can be passed to len().\n",
    "2:-have indexes and slices.\n",
    "3:-be used in for loops.\n",
    "4:-be concatenated or replicated.\n",
    "5:-be used with the in and not in operators."
   ]
  },
  {
   "cell_type": "code",
   "execution_count": null,
   "id": "af53f643",
   "metadata": {},
   "outputs": [],
   "source": [
    "#13. What's the difference between tuples and lists?\n",
    "tuples:- \n",
    "    1:-Lists are mutable\n",
    "    2:-they can have values added\n",
    "    3:-removed, or changed\n",
    "    4:-lists use the square brackets, [ and ].\n",
    "lists:-   \n",
    "    1:-Tuples are immutable\n",
    "    2:-they cannot be changed at all.\n",
    "    3:-tuples are written using parentheses, ( and ).\n"
   ]
  },
  {
   "cell_type": "code",
   "execution_count": 36,
   "id": "0edadf4b",
   "metadata": {},
   "outputs": [
    {
     "data": {
      "text/plain": [
       "tuple"
      ]
     },
     "execution_count": 36,
     "metadata": {},
     "output_type": "execute_result"
    }
   ],
   "source": [
    "#14. How do you type a tuple value that only contains the integer 42?\n",
    "a=(42,)\n",
    "type(a)"
   ]
  },
  {
   "cell_type": "code",
   "execution_count": 37,
   "id": "0eb145d7",
   "metadata": {},
   "outputs": [
    {
     "data": {
      "text/plain": [
       "(2, 4, 6, 8, 10)"
      ]
     },
     "execution_count": 37,
     "metadata": {},
     "output_type": "execute_result"
    }
   ],
   "source": [
    "#15. How do you get a list value's tuple form? How do you get a tuple value's list form?1\n",
    "1:-list value's tuple form\n",
    "s=[2, 4, 6, 8, 10]\n",
    "a=tuple(s)\n",
    "a\n",
    "2:-tuple value's list form\n",
    "b=list[a]\n",
    "b"
   ]
  },
  {
   "cell_type": "code",
   "execution_count": null,
   "id": "86e477ae",
   "metadata": {},
   "outputs": [],
   "source": [
    "#16. Variables that \"contain\" list values are not necessarily lists themselves. Instead, what do they\n",
    "contain?\n",
    "ans:-They contain references to list values."
   ]
  },
  {
   "cell_type": "code",
   "execution_count": null,
   "id": "ff3a2935",
   "metadata": {},
   "outputs": [],
   "source": [
    "#17. How do you distinguish between copy.copy() and copy.deepcopy()?original\n",
    "copy.copy() means copy a list to another list ,whatever change  you do in list 2 which reflect in list original\n",
    "exmp:-\n",
    "import copy\n",
    "li1 = [1, 2, [3,5], 4]\n",
    "li2 = copy.copy(li1)\n",
    "li2[2][0]=7\n",
    "copy.deepcopy() means copy a list to another list ,whatever change  you do in list 2 is not reflectin list original\n",
    "exmp:-\n",
    "import copy\n",
    "li1 = [1, 2, [3,5], 4]\n",
    "li2 = copy.copy(li1)\n",
    "li2[2][0]=7"
   ]
  },
  {
   "cell_type": "code",
   "execution_count": 42,
   "id": "442427a2",
   "metadata": {},
   "outputs": [],
   "source": []
  },
  {
   "cell_type": "code",
   "execution_count": null,
   "id": "703a8e1b",
   "metadata": {},
   "outputs": [],
   "source": []
  },
  {
   "cell_type": "code",
   "execution_count": null,
   "id": "f93580fb",
   "metadata": {},
   "outputs": [],
   "source": []
  },
  {
   "cell_type": "code",
   "execution_count": null,
   "id": "dd6d93d2",
   "metadata": {},
   "outputs": [],
   "source": []
  }
 ],
 "metadata": {
  "kernelspec": {
   "display_name": "Python 3 (ipykernel)",
   "language": "python",
   "name": "python3"
  },
  "language_info": {
   "codemirror_mode": {
    "name": "ipython",
    "version": 3
   },
   "file_extension": ".py",
   "mimetype": "text/x-python",
   "name": "python",
   "nbconvert_exporter": "python",
   "pygments_lexer": "ipython3",
   "version": "3.9.7"
  }
 },
 "nbformat": 4,
 "nbformat_minor": 5
}
