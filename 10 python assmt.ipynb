{
 "cells": [
  {
   "cell_type": "code",
   "execution_count": null,
   "id": "4a1d470b",
   "metadata": {},
   "outputs": [],
   "source": [
    "Q1. How do you distinguish between shutil.copy() and shutil.copytree()?\n",
    "\n",
    "ans:-The shutil.copy() method is used to copy a single file, while shutil.copytree() will copy an entire folder , along with \n",
    "     all its content."
   ]
  },
  {
   "cell_type": "code",
   "execution_count": null,
   "id": "ef47fc4b",
   "metadata": {},
   "outputs": [],
   "source": [
    "Q2. What function is used to rename files??\n",
    "\n",
    "ans:-The shutil.move() is used to rename files , as well as moving them."
   ]
  },
  {
   "cell_type": "code",
   "execution_count": null,
   "id": "ae6d955b",
   "metadata": {},
   "outputs": [],
   "source": [
    "Q3. What is the difference between the delete functions in the send2trash and shutil modules?\n",
    "\n",
    "ans:-The send2trash functions will move a file or folder to the recycle bin , while shutil functions will permanently delete\n",
    "     files and folders."
   ]
  },
  {
   "cell_type": "code",
   "execution_count": null,
   "id": "3f7ce61a",
   "metadata": {},
   "outputs": [],
   "source": [
    "Q4. ZipFile objects have a close() method just like File objects’ close() method. What ZipFile method is equivalent to File \n",
    "    objects’ open() method?\n",
    "    \n",
    "ans:-The zipfile.zipFile() function is equivalent to the open() function; the first argument is the filename , and the second\n",
    "     argument is the mode to open the ZIP file in (read,write,or append)."
   ]
  },
  {
   "cell_type": "code",
   "execution_count": null,
   "id": "24c592ff",
   "metadata": {},
   "outputs": [],
   "source": [
    "Q5. Create a programme that searches a folder tree for files with a certain file extension (such as .pdf\n",
    "    or .jpg). Copy these files from whatever location they are in to a new folder.\n"
   ]
  },
  {
   "cell_type": "code",
   "execution_count": 1,
   "id": "79a75038",
   "metadata": {},
   "outputs": [
    {
     "name": "stdout",
     "output_type": "stream",
     "text": [
      "Looking in C:\\Users\\nikhi\\Desktop\\randomFolder for files with extensions of  .php, .py\n"
     ]
    }
   ],
   "source": [
    "ans:-\n",
    "    \n",
    "import os , shutil\n",
    "def selectiveCopy(folder,extensions,destFolder):\n",
    "    folder = os.path.abspath(folder)\n",
    "    destFolder = os.path.abspath(destFolder)\n",
    "    print('Looking in', folder , 'for files with extensions of', ','.join(extensions))\n",
    "    for foldername,subfolders,filenames in os.walk(folder):\n",
    "        for filename in filenames:\n",
    "            name,extension = os.path.splitext(filename)\n",
    "            if extension in extensions:\n",
    "                fileAbsPath = foldername + os.path.sep + filename\n",
    "                print('Copying', fileAbsPath,'to',destFolder)\n",
    "                shutil.copy(fileAbsPath,destFolder)\n",
    "extensions = [' .php' , ' .py']\n",
    "folder = 'randomFolder'\n",
    "destFolder = 'selectiveFolder'\n",
    "selectiveCopy(folder,extensions,destFolder)\n",
    "        "
   ]
  },
  {
   "cell_type": "code",
   "execution_count": null,
   "id": "10ec778f",
   "metadata": {},
   "outputs": [],
   "source": []
  }
 ],
 "metadata": {
  "kernelspec": {
   "display_name": "Python 3 (ipykernel)",
   "language": "python",
   "name": "python3"
  },
  "language_info": {
   "codemirror_mode": {
    "name": "ipython",
    "version": 3
   },
   "file_extension": ".py",
   "mimetype": "text/x-python",
   "name": "python",
   "nbconvert_exporter": "python",
   "pygments_lexer": "ipython3",
   "version": "3.9.7"
  }
 },
 "nbformat": 4,
 "nbformat_minor": 5
}
